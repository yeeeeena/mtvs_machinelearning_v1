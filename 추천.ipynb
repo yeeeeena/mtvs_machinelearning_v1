{
 "cells": [
  {
   "cell_type": "code",
   "execution_count": 1,
   "metadata": {},
   "outputs": [],
   "source": [
    "import pandas as pd"
   ]
  },
  {
   "cell_type": "code",
   "execution_count": 4,
   "metadata": {},
   "outputs": [
    {
     "data": {
      "text/html": [
       "<div>\n",
       "<style scoped>\n",
       "    .dataframe tbody tr th:only-of-type {\n",
       "        vertical-align: middle;\n",
       "    }\n",
       "\n",
       "    .dataframe tbody tr th {\n",
       "        vertical-align: top;\n",
       "    }\n",
       "\n",
       "    .dataframe thead th {\n",
       "        text-align: right;\n",
       "    }\n",
       "</style>\n",
       "<table border=\"1\" class=\"dataframe\">\n",
       "  <thead>\n",
       "    <tr style=\"text-align: right;\">\n",
       "      <th></th>\n",
       "      <th>Unnamed: 0</th>\n",
       "      <th>userId</th>\n",
       "      <th>EXAMIN_BEGIN_DE</th>\n",
       "      <th>성별</th>\n",
       "      <th>연령대</th>\n",
       "      <th>거주지</th>\n",
       "      <th>가구소득정도</th>\n",
       "      <th>사용목적1순위값</th>\n",
       "      <th>사용목적2순위값</th>\n",
       "      <th>평일일평균레저시간값</th>\n",
       "      <th>...</th>\n",
       "      <th>휴식오락사용비율</th>\n",
       "      <th>취미사용비율</th>\n",
       "      <th>본인계발사용비율</th>\n",
       "      <th>대인관계교제사용비율</th>\n",
       "      <th>기타사용비율</th>\n",
       "      <th>관심레저활동1순위값</th>\n",
       "      <th>관심레저활동2순위값</th>\n",
       "      <th>관심레저활동3순위값</th>\n",
       "      <th>관심레저활동4순위값</th>\n",
       "      <th>관심레저활동5순위값</th>\n",
       "    </tr>\n",
       "  </thead>\n",
       "  <tbody>\n",
       "    <tr>\n",
       "      <th>0</th>\n",
       "      <td>0</td>\n",
       "      <td>53322222</td>\n",
       "      <td>20230503</td>\n",
       "      <td>M</td>\n",
       "      <td>30대</td>\n",
       "      <td>서울특별시</td>\n",
       "      <td>300이상500만원 미만</td>\n",
       "      <td>스트레스 해소를 위해</td>\n",
       "      <td>가족-지인 등과 시간을 보내기 위해</td>\n",
       "      <td>2</td>\n",
       "      <td>...</td>\n",
       "      <td>30.0</td>\n",
       "      <td>40.0</td>\n",
       "      <td>20.0</td>\n",
       "      <td>10.0</td>\n",
       "      <td>0.0</td>\n",
       "      <td>골프 직접 하기</td>\n",
       "      <td>국내 프로스포츠 영상 시청</td>\n",
       "      <td>산책-걷기</td>\n",
       "      <td>종교활동</td>\n",
       "      <td>국내 프로스포츠 현장 관람</td>\n",
       "    </tr>\n",
       "  </tbody>\n",
       "</table>\n",
       "<p>1 rows × 21 columns</p>\n",
       "</div>"
      ],
      "text/plain": [
       "   Unnamed: 0    userId  EXAMIN_BEGIN_DE 성별  연령대    거주지         가구소득정도  \\\n",
       "0           0  53322222         20230503  M  30대  서울특별시  300이상500만원 미만   \n",
       "\n",
       "      사용목적1순위값             사용목적2순위값  평일일평균레저시간값  ...  휴식오락사용비율  취미사용비율  \\\n",
       "0  스트레스 해소를 위해  가족-지인 등과 시간을 보내기 위해           2  ...      30.0    40.0   \n",
       "\n",
       "   본인계발사용비율  대인관계교제사용비율  기타사용비율  관심레저활동1순위값      관심레저활동2순위값 관심레저활동3순위값  \\\n",
       "0      20.0        10.0     0.0    골프 직접 하기  국내 프로스포츠 영상 시청      산책-걷기   \n",
       "\n",
       "  관심레저활동4순위값      관심레저활동5순위값  \n",
       "0       종교활동  국내 프로스포츠 현장 관람  \n",
       "\n",
       "[1 rows x 21 columns]"
      ]
     },
     "execution_count": 4,
     "metadata": {},
     "output_type": "execute_result"
    }
   ],
   "source": [
    "df = pd.read_csv(\"추천하기.csv\")\n",
    "df.head(1)"
   ]
  },
  {
   "cell_type": "code",
   "execution_count": 5,
   "metadata": {},
   "outputs": [
    {
     "data": {
      "text/plain": [
       "Index(['Unnamed: 0', 'userId', 'EXAMIN_BEGIN_DE', '성별', '연령대', '거주지', '가구소득정도',\n",
       "       '사용목적1순위값', '사용목적2순위값', '평일일평균레저시간값', '주말일평균레저시간값', '휴식오락사용비율',\n",
       "       '취미사용비율', '본인계발사용비율', '대인관계교제사용비율', '기타사용비율', '관심레저활동1순위값',\n",
       "       '관심레저활동2순위값', '관심레저활동3순위값', '관심레저활동4순위값', '관심레저활동5순위값'],\n",
       "      dtype='object')"
      ]
     },
     "execution_count": 5,
     "metadata": {},
     "output_type": "execute_result"
    }
   ],
   "source": [
    "df.columns"
   ]
  },
  {
   "cell_type": "code",
   "execution_count": 6,
   "metadata": {},
   "outputs": [],
   "source": [
    "df = df.drop(['Unnamed: 0', 'EXAMIN_BEGIN_DE', '성별', '연령대', '거주지', '가구소득정도',\n",
    "       '사용목적1순위값', '사용목적2순위값', '평일일평균레저시간값', '주말일평균레저시간값', '휴식오락사용비율',\n",
    "       '취미사용비율', '본인계발사용비율', '대인관계교제사용비율', '기타사용비율'], axis=1)"
   ]
  },
  {
   "cell_type": "code",
   "execution_count": 7,
   "metadata": {},
   "outputs": [
    {
     "data": {
      "text/html": [
       "<div>\n",
       "<style scoped>\n",
       "    .dataframe tbody tr th:only-of-type {\n",
       "        vertical-align: middle;\n",
       "    }\n",
       "\n",
       "    .dataframe tbody tr th {\n",
       "        vertical-align: top;\n",
       "    }\n",
       "\n",
       "    .dataframe thead th {\n",
       "        text-align: right;\n",
       "    }\n",
       "</style>\n",
       "<table border=\"1\" class=\"dataframe\">\n",
       "  <thead>\n",
       "    <tr style=\"text-align: right;\">\n",
       "      <th></th>\n",
       "      <th>userId</th>\n",
       "      <th>관심레저활동1순위값</th>\n",
       "      <th>관심레저활동2순위값</th>\n",
       "      <th>관심레저활동3순위값</th>\n",
       "      <th>관심레저활동4순위값</th>\n",
       "      <th>관심레저활동5순위값</th>\n",
       "    </tr>\n",
       "  </thead>\n",
       "  <tbody>\n",
       "    <tr>\n",
       "      <th>0</th>\n",
       "      <td>53322222</td>\n",
       "      <td>골프 직접 하기</td>\n",
       "      <td>국내 프로스포츠 영상 시청</td>\n",
       "      <td>산책-걷기</td>\n",
       "      <td>종교활동</td>\n",
       "      <td>국내 프로스포츠 현장 관람</td>\n",
       "    </tr>\n",
       "    <tr>\n",
       "      <th>1</th>\n",
       "      <td>53322236</td>\n",
       "      <td>영상 컨텐츠 시청</td>\n",
       "      <td>수다-잡담하기</td>\n",
       "      <td>쇼핑</td>\n",
       "      <td>독서</td>\n",
       "      <td>없음</td>\n",
       "    </tr>\n",
       "    <tr>\n",
       "      <th>2</th>\n",
       "      <td>53322268</td>\n",
       "      <td>쇼핑</td>\n",
       "      <td>영상 컨텐츠 시청</td>\n",
       "      <td>국내 여행</td>\n",
       "      <td>계모임-동창회-사교모임</td>\n",
       "      <td>산책-걷기</td>\n",
       "    </tr>\n",
       "    <tr>\n",
       "      <th>3</th>\n",
       "      <td>53322911</td>\n",
       "      <td>보드게임-퍼즐-바둑-장기-체스 등</td>\n",
       "      <td>가족-친지 만남</td>\n",
       "      <td>산책-걷기</td>\n",
       "      <td>맛집-카페 탐방</td>\n",
       "      <td>게임</td>\n",
       "    </tr>\n",
       "    <tr>\n",
       "      <th>4</th>\n",
       "      <td>53322912</td>\n",
       "      <td>쇼핑</td>\n",
       "      <td>수다-잡담하기</td>\n",
       "      <td>온천-사우나-찜질방</td>\n",
       "      <td>산책-걷기</td>\n",
       "      <td>계모임-동창회-사교모임</td>\n",
       "    </tr>\n",
       "  </tbody>\n",
       "</table>\n",
       "</div>"
      ],
      "text/plain": [
       "     userId          관심레저활동1순위값      관심레저활동2순위값  관심레저활동3순위값    관심레저활동4순위값  \\\n",
       "0  53322222            골프 직접 하기  국내 프로스포츠 영상 시청       산책-걷기          종교활동   \n",
       "1  53322236           영상 컨텐츠 시청         수다-잡담하기          쇼핑            독서   \n",
       "2  53322268                  쇼핑       영상 컨텐츠 시청       국내 여행  계모임-동창회-사교모임   \n",
       "3  53322911  보드게임-퍼즐-바둑-장기-체스 등        가족-친지 만남       산책-걷기      맛집-카페 탐방   \n",
       "4  53322912                  쇼핑         수다-잡담하기  온천-사우나-찜질방         산책-걷기   \n",
       "\n",
       "       관심레저활동5순위값  \n",
       "0  국내 프로스포츠 현장 관람  \n",
       "1              없음  \n",
       "2           산책-걷기  \n",
       "3              게임  \n",
       "4    계모임-동창회-사교모임  "
      ]
     },
     "execution_count": 7,
     "metadata": {},
     "output_type": "execute_result"
    }
   ],
   "source": [
    "df.head()"
   ]
  },
  {
   "cell_type": "code",
   "execution_count": 8,
   "metadata": {},
   "outputs": [],
   "source": [
    "df.to_csv(\"유저_관심순위.csv\")"
   ]
  }
 ],
 "metadata": {
  "kernelspec": {
   "display_name": "gumi_env310",
   "language": "python",
   "name": "python3"
  },
  "language_info": {
   "codemirror_mode": {
    "name": "ipython",
    "version": 3
   },
   "file_extension": ".py",
   "mimetype": "text/x-python",
   "name": "python",
   "nbconvert_exporter": "python",
   "pygments_lexer": "ipython3",
   "version": "3.10.14"
  }
 },
 "nbformat": 4,
 "nbformat_minor": 2
}
